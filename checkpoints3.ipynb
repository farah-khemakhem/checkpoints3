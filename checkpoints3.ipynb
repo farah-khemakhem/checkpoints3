{
 "cells": [
  {
   "cell_type": "markdown",
   "metadata": {},
   "source": [
    "Question1: \n",
    "\n",
    "Write a Python program to multiplies all the items in a list.\n",
    "\n",
    "for example list=[2, 3, 6]\n",
    "\n",
    "result = 36"
   ]
  },
  {
   "cell_type": "code",
   "execution_count": 2,
   "metadata": {},
   "outputs": [
    {
     "name": "stdout",
     "output_type": "stream",
     "text": [
      "36\n"
     ]
    }
   ],
   "source": [
    "def multiply(items):\n",
    "    i = 1\n",
    "    for e in items:\n",
    "        i = e*i\n",
    "    return i\n",
    "print(multiply([2,3,6]))"
   ]
  },
  {
   "cell_type": "markdown",
   "metadata": {},
   "source": [
    "Question 2:\n",
    "Write a Python program to get a list, sorted in increasing order by the last element in each tuple from a given list \n",
    "of non-empty tuples.\n",
    "Sample List : [(2, 5), (1, 2), (4, 4), (2, 3), (2, 1)]\n",
    "Expected Result : [(2, 1), (1, 2), (2, 3), (4, 4), (2, 5)]"
   ]
  },
  {
   "cell_type": "code",
   "execution_count": 7,
   "metadata": {},
   "outputs": [
    {
     "name": "stdout",
     "output_type": "stream",
     "text": [
      "[(2, 1), (1, 2), (2, 3), (4, 4), (2, 5)]\n"
     ]
    }
   ],
   "source": [
    "def last_element (n):\n",
    "    return n[-1]\n",
    "def list (tuples):\n",
    "    return sorted (tuples, key=last_element)\n",
    "print(list ([(2, 5), (1, 2), (4, 4), (2, 3), (2, 1)]))"
   ]
  },
  {
   "cell_type": "markdown",
   "metadata": {},
   "source": [
    "Q3: Write a Python program to combine two dictionary adding values for common keys.\n",
    "\n",
    "d1 = {'a': 100, 'b': 200, 'c':300}\n",
    "d2 = {'a': 300, 'b': 200, 'd':400}\n",
    "Expected output: {'a': 400, 'b': 400, 'd': 400, 'c': 300}"
   ]
  },
  {
   "cell_type": "code",
   "execution_count": 12,
   "metadata": {},
   "outputs": [
    {
     "name": "stdout",
     "output_type": "stream",
     "text": [
      "{'a': 400, 'b': 400, 'd': 400, 'c': 300}\n"
     ]
    }
   ],
   "source": [
    "d1 = {'a': 100, 'b': 200, 'c':300}\n",
    "d2 = {'a': 300, 'b': 200, 'd':400}\n",
    "d3={}\n",
    "for i,j in d1.items():\n",
    "    for x,y in d2.items():\n",
    "        if i==x :\n",
    "            d3[i]= j+y\n",
    "        elif i!=x and x not in d3.keys():\n",
    "            d3[x]=y\n",
    "        elif i!=x and i not in d3.keys():\n",
    "            d3[i]=j\n",
    "print (d3)"
   ]
  },
  {
   "cell_type": "markdown",
   "metadata": {},
   "source": [
    "Question 4\n",
    "With a given integral number n, write a program to generate a dictionary that contains (i, i*i) such that is an \n",
    "integral number between 1 and n (both included). and then the program should print the dictionary. \n",
    "Suppose the following input is supplied to the program: 8 Then, \n",
    "the output should be: {1: 1, 2: 4, 3: 9, 4: 16, 5: 25, 6: 36, 7: 49, 8: 64}"
   ]
  },
  {
   "cell_type": "code",
   "execution_count": 13,
   "metadata": {},
   "outputs": [
    {
     "name": "stdout",
     "output_type": "stream",
     "text": [
      "number8\n",
      "{1: 1, 2: 4, 3: 9, 4: 16, 5: 25, 6: 36, 7: 49, 8: 64}\n"
     ]
    }
   ],
   "source": [
    "n=int(input(\"number\"))\n",
    "dict={}\n",
    "for i in range (1, n+1):\n",
    "    dict[i]= i*i\n",
    "print (dict)  "
   ]
  },
  {
   "cell_type": "markdown",
   "metadata": {},
   "source": [
    "Question 5: \n",
    "Write a program to sort a tuple by its float element.\n",
    "For example list= [('item1', '12.20'), ('item2', '15.10'), ('item3', '24.5')]\n",
    "Expected Output: [('item3', '24.5'), ('item2', '15.10'), ('item1', '12.20')]"
   ]
  },
  {
   "cell_type": "code",
   "execution_count": 40,
   "metadata": {},
   "outputs": [
    {
     "name": "stdout",
     "output_type": "stream",
     "text": [
      "<function tup at 0x0000019BD10F0550>\n"
     ]
    }
   ],
   "source": [
    "tup= [('item1', '12.20'), ('item2', '15.10'),('item3', '24.5')]\n",
    "def last_element (n):\n",
    "    return n[-1]\n",
    "def tup (tuples):\n",
    "    return sorted (tuples, key=last_element) \n",
    "print (tup) "
   ]
  }
 ],
 "metadata": {
  "kernelspec": {
   "display_name": "Python 3",
   "language": "python",
   "name": "python3"
  },
  "language_info": {
   "codemirror_mode": {
    "name": "ipython",
    "version": 3
   },
   "file_extension": ".py",
   "mimetype": "text/x-python",
   "name": "python",
   "nbconvert_exporter": "python",
   "pygments_lexer": "ipython3",
   "version": "3.8.3"
  }
 },
 "nbformat": 4,
 "nbformat_minor": 4
}
